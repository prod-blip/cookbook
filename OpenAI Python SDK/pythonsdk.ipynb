{
 "cells": [
  {
   "cell_type": "markdown",
   "metadata": {},
   "source": [
    "# Getting Started with Python SDK"
   ]
  },
  {
   "cell_type": "markdown",
   "metadata": {},
   "source": [
    "# Definition\n",
    "\n",
    "The [OpenAI Agents SDK](https://github.com/openai/openai-agents-python) enables you to build agentic AI apps in a lightweight, easy-to-use package. It has 3 important parts\n",
    "\n",
    "- Agents - LLMs equipped with instructions and tools\n",
    "- Handoffs - allow agents to delegate to other agents\n",
    "- Guardrails - validation of inputs\n",
    "- Tracing - Built-in tracking of agent runs, allowing you to view, debug and optimize your workflows\n",
    "These primitives are powerful enough to express complex relationships between tools and agents, and allow you to build real-world applications"
   ]
  },
  {
   "cell_type": "markdown",
   "metadata": {},
   "source": [
    "# Setup your virtual environment\n",
    "# Install SDK Agents\n",
    "pip install openai-agents\n",
    "\n",
    " ----ensure you set the OPENAI_API_KEY environment variable---"
   ]
  },
  {
   "cell_type": "markdown",
   "metadata": {},
   "source": []
  },
  {
   "cell_type": "markdown",
   "metadata": {},
   "source": []
  },
  {
   "cell_type": "markdown",
   "metadata": {},
   "source": [
    "# Creating the first agent"
   ]
  },
  {
   "cell_type": "code",
   "execution_count": 17,
   "metadata": {},
   "outputs": [],
   "source": [
    "from agents import Agent, Runner\n",
    "from agents import GuardrailFunctionOutput, Agent, Runner, InputGuardrail\n",
    "from pydantic import BaseModel"
   ]
  },
  {
   "cell_type": "code",
   "execution_count": 23,
   "metadata": {},
   "outputs": [
    {
     "name": "stdout",
     "output_type": "stream",
     "text": [
      "To solve the problem \\(3 + 4\\), follow these steps:\n",
      "\n",
      "1. **Understand the Operation**: Addition is a basic arithmetic operation used to calculate the total or sum of two or more numbers.\n",
      "\n",
      "2. **Identify the Numbers**: Here, we have the numbers 3 and 4 that need to be added.\n",
      "\n",
      "3. **Perform the Addition**:\n",
      "   - Start with 3.\n",
      "   - Add 4 to it.\n",
      "\n",
      "   Visualizing or using physical objects can help: Imagine you have 3 apples and you get 4 more apples. Counting all the apples gives you a total.\n",
      "\n",
      "4. **Calculate the Sum**:\n",
      "   - Starting from 3, count up: 4, 5, 6, 7.\n",
      "\n",
      "The sum of \\(3 + 4\\) is \\(7\\).\n",
      "\n",
      "**Example**: If you have 3 pencils and you receive 4 more pencils, you will have \\(3 + 4 = 7\\) pencils total.\n"
     ]
    }
   ],
   "source": [
    "agent = Agent(\n",
    "    name=\"Math Tutor\",\n",
    "    instructions=\"You provide help with math problems. Explain your reasoning at each step and include examples\",\n",
    ")\n",
    "\n",
    "result = await Runner.run(agent, \"What is 3+4?\")\n",
    "print(result.final_output)"
   ]
  },
  {
   "cell_type": "markdown",
   "metadata": {},
   "source": [
    "# Add a few more agents"
   ]
  },
  {
   "cell_type": "code",
   "execution_count": null,
   "metadata": {},
   "outputs": [],
   "source": [
    "\n",
    "\n",
    "physics_tutor_agent = Agent(\n",
    "    name=\"Physics Tutor\",\n",
    "    handoff_description=\"Specialist agent for physics questions\",\n",
    "    instructions=\"You provide assistance with physics queries. Explain the concepts clearly.\",\n",
    ")\n",
    "\n",
    "math_tutor_agent = Agent(\n",
    "    name=\"Math Tutor\",\n",
    "    handoff_description=\"Specialist agent for math questions\",\n",
    "    instructions=\"You provide help with math problems. Explain your reasoning at each step and include examples\",\n",
    ")"
   ]
  },
  {
   "cell_type": "markdown",
   "metadata": {},
   "source": [
    "# Handoffs\n",
    "Handoffs let one agent delegate a conversation to another agent. This is useful when you have multiple specialized agents (e.g., a “Spanish-only” agent vs. “English-only” agent) or domain-specific agents (tech support vs. billing).\n"
   ]
  },
  {
   "cell_type": "code",
   "execution_count": 24,
   "metadata": {},
   "outputs": [
    {
     "name": "stdout",
     "output_type": "stream",
     "text": [
      "To find the derivative of the expression \\( x^2 + 2x + 1 \\), we'll use the basic rules of differentiation.\n",
      "\n",
      "### Step-by-Step Differentiation\n",
      "\n",
      "1. **Identify Each Term**:\n",
      "   - The expression is \\( x^2 + 2x + 1 \\).\n",
      "   - It has three terms: \\( x^2 \\), \\( 2x \\), and \\( 1 \\).\n",
      "\n",
      "2. **Differentiate Each Term Individually**:\n",
      "   - **Derivative of \\( x^2 \\)**: \n",
      "     - Use the power rule: \\( \\frac{d}{dx}(x^n) = nx^{n-1} \\).\n",
      "     - Here, \\( n = 2 \\), so \\( \\frac{d}{dx}(x^2) = 2x^{2-1} = 2x \\).\n",
      "\n",
      "   - **Derivative of \\( 2x \\)**:\n",
      "     - The derivative of a constant times a variable (\\( cx \\)) is the constant (\\( c \\)).\n",
      "     - So, \\( \\frac{d}{dx}(2x) = 2 \\).\n",
      "\n",
      "   - **Derivative of \\( 1 \\)**:\n",
      "     - The derivative of a constant is zero.\n",
      "     - So, \\( \\frac{d}{dx}(1) = 0 \\).\n",
      "\n",
      "3. **Combine the Results**:\n",
      "   - Put together the derivatives of each term: \n",
      "   - \\( 2x + 2 + 0 = 2x + 2 \\).\n",
      "\n",
      "So, the derivative of \\( x^2 + 2x + 1 \\) is \\( 2x + 2 \\).\n",
      "\n",
      "### Example\n",
      "\n",
      "Let's apply this method to a similar function: \\( y = 3x^2 + 4x + 5 \\).\n",
      "\n",
      "1. **Differentiate Each Term**:\n",
      "   - Derivative of \\( 3x^2 \\) is \\( 3 \\times 2x = 6x \\).\n",
      "   - Derivative of \\( 4x \\) is \\( 4 \\).\n",
      "   - Derivative of \\( 5 \\) is \\( 0 \\).\n",
      "\n",
      "2. **Combine the Results**:\n",
      "   - \\( 6x + 4 + 0 = 6x + 4 \\).\n",
      "\n",
      "Thus, the derivative of \\( y = 3x^2 + 4x + 5 \\) is \\( 6x + 4 \\).\n"
     ]
    }
   ],
   "source": [
    "triage_agent = Agent(\n",
    "    name=\"Triage Agent\",\n",
    "    instructions=\"You determine which agent to use based on the user's homework question\",\n",
    "    handoffs=[physics_tutor_agent, math_tutor_agent]\n",
    ")\n",
    "\n",
    "result = await Runner.run(triage_agent, \"What is the derivative x in x^2 + 2x + 1?\" \"\\n \\n\")\n",
    "print(result.final_output)"
   ]
  },
  {
   "cell_type": "markdown",
   "metadata": {},
   "source": [
    "# Adding a Guardrail\n",
    "\n",
    "Configurable safety checks for input and output validation"
   ]
  },
  {
   "cell_type": "code",
   "execution_count": 25,
   "metadata": {},
   "outputs": [],
   "source": [
    "class HomeworkOutput(BaseModel):\n",
    "    is_homework: bool\n",
    "    reasoning: str\n",
    "\n",
    "guardrail_agent = Agent(\n",
    "    name=\"Guardrail check\",\n",
    "    instructions=\"Check if the user is asking about homework.\",\n",
    "    output_type=HomeworkOutput,\n",
    ")\n",
    "\n",
    "async def homework_guardrail(ctx, agent, input_data):\n",
    "    result = await Runner.run(guardrail_agent, input_data, context=ctx.context)\n",
    "    final_output = result.final_output_as(HomeworkOutput)\n",
    "    return GuardrailFunctionOutput(\n",
    "        output_info=final_output,\n",
    "        tripwire_triggered=not final_output.is_homework,\n",
    "    )"
   ]
  },
  {
   "cell_type": "code",
   "execution_count": 27,
   "metadata": {},
   "outputs": [
    {
     "name": "stdout",
     "output_type": "stream",
     "text": [
      "This is out of my scope\n"
     ]
    }
   ],
   "source": [
    "triage_agent = Agent(\n",
    "    name = \"Triage Agent\",\n",
    "    instructions = \"You determine which agent to use based on user's homework question\",\n",
    "    handoffs = [physics_tutor_agent, math_tutor_agent],\n",
    "    input_guardrails = [InputGuardrail(guardrail_function=homework_guardrail)] \n",
    ")\n",
    "\n",
    "try:\n",
    "    result = await Runner.run(triage_agent, \"what is life\" \"\\n \\n\")\n",
    "    print(result.final_output)\n",
    "except Exception as e:\n",
    "    print(\"This is out of my scope\")"
   ]
  },
  {
   "cell_type": "markdown",
   "metadata": {},
   "source": [
    "# View Traces of agent to review\n",
    "\n",
    "The Agents SDK automatically traces your agent runs, making it easy to track and debug the behavior of your agents"
   ]
  },
  {
   "cell_type": "code",
   "execution_count": null,
   "metadata": {},
   "outputs": [],
   "source": []
  },
  {
   "cell_type": "code",
   "execution_count": null,
   "metadata": {},
   "outputs": [],
   "source": []
  }
 ],
 "metadata": {
  "kernelspec": {
   "display_name": "venv",
   "language": "python",
   "name": "python3"
  },
  "language_info": {
   "codemirror_mode": {
    "name": "ipython",
    "version": 3
   },
   "file_extension": ".py",
   "mimetype": "text/x-python",
   "name": "python",
   "nbconvert_exporter": "python",
   "pygments_lexer": "ipython3",
   "version": "3.11.4"
  }
 },
 "nbformat": 4,
 "nbformat_minor": 2
}
